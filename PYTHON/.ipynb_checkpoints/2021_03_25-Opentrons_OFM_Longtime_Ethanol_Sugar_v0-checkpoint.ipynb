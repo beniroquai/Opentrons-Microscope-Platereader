{
 "cells": [
  {
   "cell_type": "code",
   "execution_count": 1,
   "metadata": {},
   "outputs": [],
   "source": [
    "# organize the imports\n",
    "import opentrons.execute\n",
    "from opentrons import types \n",
    "import time\n",
    "import numpy as np\n"
   ]
  },
  {
   "cell_type": "code",
   "execution_count": 2,
   "metadata": {},
   "outputs": [],
   "source": [
    "#!pip3 install zeroconf\n",
    "#!pip3 install requests\n",
    "\n",
    "# Connect to the microscope \n",
    "from microscope_client import MicroscopeClient \n",
    "microscope = MicroscopeClient(host=\"21.3.2.3\", port=5000)\n"
   ]
  },
  {
   "cell_type": "code",
   "execution_count": 20,
   "metadata": {},
   "outputs": [],
   "source": [
    "def whole_platescan_96well(microscope, offset_x=2000, offset_y=3000, xstart=0, ystart=0, Nx = 8, Ny = 12, name='TestScan'):\n",
    "\n",
    "    # perform a scan of the whole well plate\n",
    "    dx = 9000\n",
    "    dy = 9000\n",
    "\n",
    "    # move to the home positoin \n",
    "    Nx = Nx-xstart\n",
    "    Ny = Ny-ystart\n",
    "    microscope.move((offset_x+dx*xstart,offset_y+dy*ystart,0), True)\n",
    "\n",
    "    params={'annotations': {'Client':'openflexure-microscope-jsclient:builtin'}, \n",
    "     'autofocus_dz': 0, \n",
    "     'bayer': False, \n",
    "     'fast_autofocus': False, \n",
    "     'grid': [Nx, Ny, 1], \n",
    "     'namemode': 'number', \n",
    "     'stride_size': [dx, dy, 1], \n",
    "     'style': 'snake', \n",
    "     'tags': [], \n",
    "     'filename':name,       \n",
    "     'temporary': False, \n",
    "     'use_video_port': True}\n",
    "\n",
    "    microscope.scan(params, wait_on_task=True)\n",
    "    \n",
    "    # move to the home positoin \n",
    "    microscope.move((offset_x+dx*xstart,offset_y+dy*ystart,0), True)\n"
   ]
  },
  {
   "cell_type": "code",
   "execution_count": 4,
   "metadata": {},
   "outputs": [
    {
     "name": "stderr",
     "output_type": "stream",
     "text": [
      "WARNING:opentrons.drivers.rpi_drivers:Failed to initialize character device, will not be able to control gpios (lights, button, smoothiekill, smoothie reset). Only one connection can be made to the gpios at a time. If you need to control gpios, first stop the robot server with systemctl stop opentrons-robot-server. Until you restart the server with systemctl start opentrons-robot-server, you will be unable to control the robot using the Opentrons app.\n",
      "WARNING:opentrons.hardware_control.util:Out of bounds move: X=(418.00000000000006 motor controller, 419.5412429817696 deck) too high for limit 418\n",
      "WARNING:opentrons.hardware_control.util:Out of bounds move: X=(418.00000000000006 motor controller, 419.5412429817696 deck) too high for limit 418\n"
     ]
    }
   ],
   "source": [
    "# Connect to the opentrons robot\n",
    "protocol = opentrons.execute.get_protocol_api('2.8')\n",
    "protocol.home()\n",
    "\n",
    "# setup the pipets\n",
    "pipette = protocol.load_instrument('p300_single', 'right')\n",
    "pipette_8 = protocol.load_instrument('p300_multi', 'left')\n"
   ]
  },
  {
   "cell_type": "code",
   "execution_count": null,
   "metadata": {},
   "outputs": [],
   "source": []
  },
  {
   "cell_type": "code",
   "execution_count": 5,
   "metadata": {},
   "outputs": [],
   "source": [
    "# setup the labware in the trays\n",
    "plate = protocol.load_labware('corning_96_wellplate_360ul_flat', location='3')\n",
    "plate2 = protocol.load_labware('corning_24_wellplate_3.4ml_flat', location='7')\n",
    "tiprack = protocol.load_labware('opentrons_96_filtertiprack_200ul',location='8')"
   ]
  },
  {
   "cell_type": "code",
   "execution_count": 6,
   "metadata": {},
   "outputs": [
    {
     "name": "stderr",
     "output_type": "stream",
     "text": [
      "WARNING:opentrons.hardware_control.util:Out of bounds move: X=(418.00000000000006 motor controller, 419.5412429817696 deck) too high for limit 418\n",
      "WARNING:opentrons.hardware_control.util:Out of bounds move: X=(418.00000000000006 motor controller, 419.5412429817696 deck) too high for limit 418\n",
      "WARNING:opentrons.hardware_control.util:Out of bounds move: X=(418.00000000000006 motor controller, 419.5412429817696 deck) too high for limit 418\n"
     ]
    },
    {
     "data": {
      "text/plain": [
       "<InstrumentContext: p300_single_v2.1 in RIGHT>"
      ]
     },
     "execution_count": 6,
     "metadata": {},
     "output_type": "execute_result"
    }
   ],
   "source": [
    "# homing the robot and get rid of all pipettes\n",
    "protocol.home()\n",
    "pipette.home()"
   ]
  },
  {
   "cell_type": "code",
   "execution_count": null,
   "metadata": {},
   "outputs": [],
   "source": []
  },
  {
   "cell_type": "code",
   "execution_count": null,
   "metadata": {},
   "outputs": [],
   "source": []
  },
  {
   "cell_type": "code",
   "execution_count": null,
   "metadata": {},
   "outputs": [],
   "source": []
  },
  {
   "cell_type": "code",
   "execution_count": 7,
   "metadata": {},
   "outputs": [],
   "source": [
    "def pickup_fresh_pipette_tip(i_pipette, pipette, tiprack):\n",
    "    try:\n",
    "        my_fresh_tip = tiprack.wells()[i_pipette]\n",
    "        pipette.pick_up_tip(my_fresh_tip)\n",
    "    except:\n",
    "        i_pipette += 1\n",
    "        print(\"no pipette attached\")\n",
    "        pipette.drop_tip()\n",
    "        pipette.pick_up_tip(my_fresh_tip)\n",
    "\n",
    "    return i_pipette\n",
    "\n",
    "       \n",
    "# i_pipette = pickup_fresh_pipette_tip(i_pipette, pipette, tiprack)\n"
   ]
  },
  {
   "cell_type": "code",
   "execution_count": 43,
   "metadata": {},
   "outputs": [],
   "source": [
    "#pipette.home()\n",
    "time_last_scan = -10000\n",
    "time_last_pipette = -10000\n",
    "i_experiment = 1\n",
    "i_pipette = 0 \n",
    "#i_id = 6"
   ]
  },
  {
   "cell_type": "code",
   "execution_count": 44,
   "metadata": {},
   "outputs": [],
   "source": [
    "i_id =28"
   ]
  },
  {
   "cell_type": "markdown",
   "metadata": {},
   "source": [
    "# Do the actual pipetting and imaging"
   ]
  },
  {
   "cell_type": "code",
   "execution_count": null,
   "metadata": {},
   "outputs": [
    {
     "name": "stdout",
     "output_type": "stream",
     "text": [
      "Picking up: 50-ethanol-50-PBS\n",
      "Picking up: 50-ethanol-50-PBS\n",
      "Picking up: 50-ethanol-50-PBS\n",
      "Picking up: 50-ethanol-50-PBS\n",
      "Picking up: 50-ethanol-50-PBS\n",
      "Picking up: 50-ethanol-50-PBS\n",
      "Picking up: 50-ethanol-50-PBS\n",
      "no pipette attached\n"
     ]
    },
    {
     "name": "stderr",
     "output_type": "stream",
     "text": [
      "WARNING:opentrons.hardware_control.util:Out of bounds move: Y=(351.4210504725146 motor controller, 350.5 deck) too high for limit 350.0\n",
      "WARNING:opentrons.hardware_control.util:Out of bounds move: Y=(351.4210504725146 motor controller, 350.5 deck) too high for limit 350.0\n",
      "WARNING:opentrons.hardware_control.util:Out of bounds move: Y=(351.4210504725146 motor controller, 350.5 deck) too high for limit 350.0\n",
      "WARNING:opentrons.hardware_control.util:Out of bounds move: Y=(351.4210504725146 motor controller, 350.5 deck) too high for limit 350.0\n",
      "WARNING:opentrons.hardware_control.util:Out of bounds move: Y=(351.425 motor controller, 350.50396390978887 deck) too high for limit 350.0\n",
      "WARNING:opentrons.hardware_control.util:Out of bounds move: Y=(351.425 motor controller, 350.50396390978887 deck) too high for limit 350.0\n"
     ]
    },
    {
     "name": "stdout",
     "output_type": "stream",
     "text": [
      "Picking up: pbs\n",
      "Picking up: pbs\n",
      "Picking up: pbs\n",
      "Picking up: pbs\n",
      "Picking up: pbs\n",
      "Picking up: pbs\n",
      "Picking up: pbs\n",
      "no pipette attached\n"
     ]
    },
    {
     "name": "stderr",
     "output_type": "stream",
     "text": [
      "WARNING:opentrons.hardware_control.util:Out of bounds move: Y=(351.4210504725146 motor controller, 350.5 deck) too high for limit 350.0\n",
      "WARNING:opentrons.hardware_control.util:Out of bounds move: Y=(351.4210504725146 motor controller, 350.5 deck) too high for limit 350.0\n",
      "WARNING:opentrons.hardware_control.util:Out of bounds move: Y=(351.4210504725146 motor controller, 350.5 deck) too high for limit 350.0\n",
      "WARNING:opentrons.hardware_control.util:Out of bounds move: Y=(351.4210504725146 motor controller, 350.5 deck) too high for limit 350.0\n",
      "WARNING:opentrons.hardware_control.util:Out of bounds move: Y=(351.425 motor controller, 350.50396390978887 deck) too high for limit 350.0\n",
      "WARNING:opentrons.hardware_control.util:Out of bounds move: Y=(351.425 motor controller, 350.50396390978887 deck) too high for limit 350.0\n"
     ]
    },
    {
     "name": "stdout",
     "output_type": "stream",
     "text": [
      "Picking up: salt\n",
      "Picking up: salt\n",
      "Picking up: salt\n",
      "Picking up: salt\n",
      "Picking up: salt\n",
      "Picking up: salt\n",
      "Picking up: salt\n",
      "no pipette attached\n"
     ]
    },
    {
     "name": "stderr",
     "output_type": "stream",
     "text": [
      "WARNING:opentrons.hardware_control.util:Out of bounds move: Y=(351.4210504725146 motor controller, 350.5 deck) too high for limit 350.0\n",
      "WARNING:opentrons.hardware_control.util:Out of bounds move: Y=(351.4210504725146 motor controller, 350.5 deck) too high for limit 350.0\n",
      "WARNING:opentrons.hardware_control.util:Out of bounds move: Y=(351.4210504725146 motor controller, 350.5 deck) too high for limit 350.0\n",
      "WARNING:opentrons.hardware_control.util:Out of bounds move: Y=(351.4210504725146 motor controller, 350.5 deck) too high for limit 350.0\n",
      "WARNING:opentrons.hardware_control.util:Out of bounds move: Y=(351.425 motor controller, 350.50396390978887 deck) too high for limit 350.0\n",
      "WARNING:opentrons.hardware_control.util:Out of bounds move: Y=(351.425 motor controller, 350.50396390978887 deck) too high for limit 350.0\n"
     ]
    },
    {
     "name": "stdout",
     "output_type": "stream",
     "text": [
      "Picking up: 50-ethanol-50-PBS\n",
      "Picking up: 50-ethanol-50-PBS\n",
      "Picking up: 50-ethanol-50-PBS\n",
      "Picking up: 50-ethanol-50-PBS\n",
      "Picking up: 50-ethanol-50-PBS\n",
      "Picking up: 50-ethanol-50-PBS\n",
      "no pipette attached\n"
     ]
    },
    {
     "name": "stderr",
     "output_type": "stream",
     "text": [
      "WARNING:opentrons.hardware_control.util:Out of bounds move: Y=(351.4210504725146 motor controller, 350.5 deck) too high for limit 350.0\n",
      "WARNING:opentrons.hardware_control.util:Out of bounds move: Y=(351.4210504725146 motor controller, 350.5 deck) too high for limit 350.0\n",
      "WARNING:opentrons.hardware_control.util:Out of bounds move: Y=(351.4210504725146 motor controller, 350.5 deck) too high for limit 350.0\n",
      "WARNING:opentrons.hardware_control.util:Out of bounds move: Y=(351.4210504725146 motor controller, 350.5 deck) too high for limit 350.0\n",
      "WARNING:opentrons.hardware_control.util:Out of bounds move: Y=(351.425 motor controller, 350.50396390978887 deck) too high for limit 350.0\n",
      "WARNING:opentrons.hardware_control.util:Out of bounds move: Y=(351.425 motor controller, 350.50396390978887 deck) too high for limit 350.0\n"
     ]
    },
    {
     "name": "stdout",
     "output_type": "stream",
     "text": [
      "Picking up: pbs\n",
      "Picking up: pbs\n",
      "Picking up: pbs\n",
      "Picking up: pbs\n",
      "Picking up: pbs\n",
      "Picking up: pbs\n",
      "no pipette attached\n"
     ]
    },
    {
     "name": "stderr",
     "output_type": "stream",
     "text": [
      "WARNING:opentrons.hardware_control.util:Out of bounds move: Y=(351.4210504725146 motor controller, 350.5 deck) too high for limit 350.0\n",
      "WARNING:opentrons.hardware_control.util:Out of bounds move: Y=(351.4210504725146 motor controller, 350.5 deck) too high for limit 350.0\n",
      "WARNING:opentrons.hardware_control.util:Out of bounds move: Y=(351.4210504725146 motor controller, 350.5 deck) too high for limit 350.0\n",
      "WARNING:opentrons.hardware_control.util:Out of bounds move: Y=(351.4210504725146 motor controller, 350.5 deck) too high for limit 350.0\n",
      "WARNING:opentrons.hardware_control.util:Out of bounds move: Y=(351.425 motor controller, 350.50396390978887 deck) too high for limit 350.0\n",
      "WARNING:opentrons.hardware_control.util:Out of bounds move: Y=(351.425 motor controller, 350.50396390978887 deck) too high for limit 350.0\n"
     ]
    },
    {
     "name": "stdout",
     "output_type": "stream",
     "text": [
      "Picking up: salt\n",
      "Picking up: salt\n",
      "Picking up: salt\n",
      "Picking up: salt\n",
      "Picking up: salt\n",
      "Picking up: salt\n",
      "no pipette attached\n"
     ]
    },
    {
     "name": "stderr",
     "output_type": "stream",
     "text": [
      "WARNING:opentrons.hardware_control.util:Out of bounds move: Y=(351.4210504725146 motor controller, 350.5 deck) too high for limit 350.0\n",
      "WARNING:opentrons.hardware_control.util:Out of bounds move: Y=(351.4210504725146 motor controller, 350.5 deck) too high for limit 350.0\n",
      "WARNING:opentrons.hardware_control.util:Out of bounds move: Y=(351.4210504725146 motor controller, 350.5 deck) too high for limit 350.0\n",
      "WARNING:opentrons.hardware_control.util:Out of bounds move: Y=(351.4210504725146 motor controller, 350.5 deck) too high for limit 350.0\n",
      "WARNING:opentrons.hardware_control.util:Out of bounds move: Y=(351.425 motor controller, 350.50396390978887 deck) too high for limit 350.0\n",
      "WARNING:opentrons.hardware_control.util:Out of bounds move: Y=(351.425 motor controller, 350.50396390978887 deck) too high for limit 350.0\n"
     ]
    },
    {
     "name": "stdout",
     "output_type": "stream",
     "text": [
      "Picking up: 50-ethanol-50-PBS\n",
      "Picking up: 50-ethanol-50-PBS\n",
      "Picking up: 50-ethanol-50-PBS\n",
      "Picking up: 50-ethanol-50-PBS\n",
      "Picking up: 50-ethanol-50-PBS\n",
      "no pipette attached\n"
     ]
    },
    {
     "name": "stderr",
     "output_type": "stream",
     "text": [
      "WARNING:opentrons.hardware_control.util:Out of bounds move: Y=(351.4210504725146 motor controller, 350.5 deck) too high for limit 350.0\n",
      "WARNING:opentrons.hardware_control.util:Out of bounds move: Y=(351.4210504725146 motor controller, 350.5 deck) too high for limit 350.0\n",
      "WARNING:opentrons.hardware_control.util:Out of bounds move: Y=(351.4210504725146 motor controller, 350.5 deck) too high for limit 350.0\n",
      "WARNING:opentrons.hardware_control.util:Out of bounds move: Y=(351.4210504725146 motor controller, 350.5 deck) too high for limit 350.0\n",
      "WARNING:opentrons.hardware_control.util:Out of bounds move: Y=(351.425 motor controller, 350.50396390978887 deck) too high for limit 350.0\n",
      "WARNING:opentrons.hardware_control.util:Out of bounds move: Y=(351.425 motor controller, 350.50396390978887 deck) too high for limit 350.0\n"
     ]
    },
    {
     "name": "stdout",
     "output_type": "stream",
     "text": [
      "Picking up: pbs\n",
      "Picking up: pbs\n",
      "Picking up: pbs\n",
      "Picking up: pbs\n",
      "Picking up: pbs\n",
      "no pipette attached\n"
     ]
    },
    {
     "name": "stderr",
     "output_type": "stream",
     "text": [
      "WARNING:opentrons.hardware_control.util:Out of bounds move: Y=(351.4210504725146 motor controller, 350.5 deck) too high for limit 350.0\n",
      "WARNING:opentrons.hardware_control.util:Out of bounds move: Y=(351.4210504725146 motor controller, 350.5 deck) too high for limit 350.0\n",
      "WARNING:opentrons.hardware_control.util:Out of bounds move: Y=(351.4210504725146 motor controller, 350.5 deck) too high for limit 350.0\n",
      "WARNING:opentrons.hardware_control.util:Out of bounds move: Y=(351.4210504725146 motor controller, 350.5 deck) too high for limit 350.0\n",
      "WARNING:opentrons.hardware_control.util:Out of bounds move: Y=(351.425 motor controller, 350.50396390978887 deck) too high for limit 350.0\n",
      "WARNING:opentrons.hardware_control.util:Out of bounds move: Y=(351.425 motor controller, 350.50396390978887 deck) too high for limit 350.0\n"
     ]
    },
    {
     "name": "stdout",
     "output_type": "stream",
     "text": [
      "Picking up: salt\n",
      "Picking up: salt\n",
      "Picking up: salt\n",
      "Picking up: salt\n",
      "Picking up: salt\n",
      "no pipette attached\n"
     ]
    },
    {
     "name": "stderr",
     "output_type": "stream",
     "text": [
      "WARNING:opentrons.hardware_control.util:Out of bounds move: Y=(351.4210504725146 motor controller, 350.5 deck) too high for limit 350.0\n",
      "WARNING:opentrons.hardware_control.util:Out of bounds move: Y=(351.4210504725146 motor controller, 350.5 deck) too high for limit 350.0\n",
      "WARNING:opentrons.hardware_control.util:Out of bounds move: Y=(351.4210504725146 motor controller, 350.5 deck) too high for limit 350.0\n",
      "WARNING:opentrons.hardware_control.util:Out of bounds move: Y=(351.4210504725146 motor controller, 350.5 deck) too high for limit 350.0\n",
      "WARNING:opentrons.hardware_control.util:Out of bounds move: Y=(351.425 motor controller, 350.50396390978887 deck) too high for limit 350.0\n",
      "WARNING:opentrons.hardware_control.util:Out of bounds move: Y=(351.425 motor controller, 350.50396390978887 deck) too high for limit 350.0\n"
     ]
    },
    {
     "name": "stdout",
     "output_type": "stream",
     "text": [
      "Picking up: 50-ethanol-50-PBS\n",
      "Picking up: 50-ethanol-50-PBS\n",
      "Picking up: 50-ethanol-50-PBS\n",
      "Picking up: 50-ethanol-50-PBS\n",
      "no pipette attached\n"
     ]
    },
    {
     "name": "stderr",
     "output_type": "stream",
     "text": [
      "WARNING:opentrons.hardware_control.util:Out of bounds move: Y=(351.4210504725146 motor controller, 350.5 deck) too high for limit 350.0\n",
      "WARNING:opentrons.hardware_control.util:Out of bounds move: Y=(351.4210504725146 motor controller, 350.5 deck) too high for limit 350.0\n",
      "WARNING:opentrons.hardware_control.util:Out of bounds move: Y=(351.4210504725146 motor controller, 350.5 deck) too high for limit 350.0\n",
      "WARNING:opentrons.hardware_control.util:Out of bounds move: Y=(351.4210504725146 motor controller, 350.5 deck) too high for limit 350.0\n",
      "WARNING:opentrons.hardware_control.util:Out of bounds move: Y=(351.425 motor controller, 350.50396390978887 deck) too high for limit 350.0\n",
      "WARNING:opentrons.hardware_control.util:Out of bounds move: Y=(351.425 motor controller, 350.50396390978887 deck) too high for limit 350.0\n"
     ]
    },
    {
     "name": "stdout",
     "output_type": "stream",
     "text": [
      "Picking up: pbs\n",
      "Picking up: pbs\n",
      "Picking up: pbs\n",
      "Picking up: pbs\n",
      "no pipette attached\n"
     ]
    },
    {
     "name": "stderr",
     "output_type": "stream",
     "text": [
      "WARNING:opentrons.hardware_control.util:Out of bounds move: Y=(351.4210504725146 motor controller, 350.5 deck) too high for limit 350.0\n",
      "WARNING:opentrons.hardware_control.util:Out of bounds move: Y=(351.4210504725146 motor controller, 350.5 deck) too high for limit 350.0\n",
      "WARNING:opentrons.hardware_control.util:Out of bounds move: Y=(351.4210504725146 motor controller, 350.5 deck) too high for limit 350.0\n",
      "WARNING:opentrons.hardware_control.util:Out of bounds move: Y=(351.4210504725146 motor controller, 350.5 deck) too high for limit 350.0\n",
      "WARNING:opentrons.hardware_control.util:Out of bounds move: Y=(351.425 motor controller, 350.50396390978887 deck) too high for limit 350.0\n",
      "WARNING:opentrons.hardware_control.util:Out of bounds move: Y=(351.425 motor controller, 350.50396390978887 deck) too high for limit 350.0\n"
     ]
    },
    {
     "name": "stdout",
     "output_type": "stream",
     "text": [
      "Picking up: salt\n",
      "Picking up: salt\n",
      "Picking up: salt\n",
      "Picking up: salt\n",
      "no pipette attached\n"
     ]
    },
    {
     "name": "stderr",
     "output_type": "stream",
     "text": [
      "WARNING:opentrons.hardware_control.util:Out of bounds move: Y=(351.4210504725146 motor controller, 350.5 deck) too high for limit 350.0\n",
      "WARNING:opentrons.hardware_control.util:Out of bounds move: Y=(351.4210504725146 motor controller, 350.5 deck) too high for limit 350.0\n",
      "WARNING:opentrons.hardware_control.util:Out of bounds move: Y=(351.4210504725146 motor controller, 350.5 deck) too high for limit 350.0\n",
      "WARNING:opentrons.hardware_control.util:Out of bounds move: Y=(351.4210504725146 motor controller, 350.5 deck) too high for limit 350.0\n",
      "WARNING:opentrons.hardware_control.util:Out of bounds move: Y=(351.425 motor controller, 350.50396390978887 deck) too high for limit 350.0\n",
      "WARNING:opentrons.hardware_control.util:Out of bounds move: Y=(351.425 motor controller, 350.50396390978887 deck) too high for limit 350.0\n"
     ]
    },
    {
     "name": "stdout",
     "output_type": "stream",
     "text": [
      "Picking up: 50-ethanol-50-PBS\n",
      "Picking up: 50-ethanol-50-PBS\n",
      "Picking up: 50-ethanol-50-PBS\n",
      "no pipette attached\n"
     ]
    },
    {
     "name": "stderr",
     "output_type": "stream",
     "text": [
      "WARNING:opentrons.hardware_control.util:Out of bounds move: Y=(351.4210504725146 motor controller, 350.5 deck) too high for limit 350.0\n",
      "WARNING:opentrons.hardware_control.util:Out of bounds move: Y=(351.4210504725146 motor controller, 350.5 deck) too high for limit 350.0\n",
      "WARNING:opentrons.hardware_control.util:Out of bounds move: Y=(351.4210504725146 motor controller, 350.5 deck) too high for limit 350.0\n",
      "WARNING:opentrons.hardware_control.util:Out of bounds move: Y=(351.4210504725146 motor controller, 350.5 deck) too high for limit 350.0\n",
      "WARNING:opentrons.hardware_control.util:Out of bounds move: Y=(351.425 motor controller, 350.50396390978887 deck) too high for limit 350.0\n",
      "WARNING:opentrons.hardware_control.util:Out of bounds move: Y=(351.425 motor controller, 350.50396390978887 deck) too high for limit 350.0\n"
     ]
    },
    {
     "name": "stdout",
     "output_type": "stream",
     "text": [
      "Picking up: pbs\n",
      "Picking up: pbs\n",
      "Picking up: pbs\n",
      "no pipette attached\n"
     ]
    },
    {
     "name": "stderr",
     "output_type": "stream",
     "text": [
      "WARNING:opentrons.hardware_control.util:Out of bounds move: Y=(351.4210504725146 motor controller, 350.5 deck) too high for limit 350.0\n",
      "WARNING:opentrons.hardware_control.util:Out of bounds move: Y=(351.4210504725146 motor controller, 350.5 deck) too high for limit 350.0\n",
      "WARNING:opentrons.hardware_control.util:Out of bounds move: Y=(351.4210504725146 motor controller, 350.5 deck) too high for limit 350.0\n",
      "WARNING:opentrons.hardware_control.util:Out of bounds move: Y=(351.4210504725146 motor controller, 350.5 deck) too high for limit 350.0\n",
      "WARNING:opentrons.hardware_control.util:Out of bounds move: Y=(351.425 motor controller, 350.50396390978887 deck) too high for limit 350.0\n",
      "WARNING:opentrons.hardware_control.util:Out of bounds move: Y=(351.425 motor controller, 350.50396390978887 deck) too high for limit 350.0\n"
     ]
    },
    {
     "name": "stdout",
     "output_type": "stream",
     "text": [
      "Picking up: salt\n",
      "Picking up: salt\n",
      "Picking up: salt\n",
      "no pipette attached\n"
     ]
    },
    {
     "name": "stderr",
     "output_type": "stream",
     "text": [
      "WARNING:opentrons.hardware_control.util:Out of bounds move: Y=(351.4210504725146 motor controller, 350.5 deck) too high for limit 350.0\n",
      "WARNING:opentrons.hardware_control.util:Out of bounds move: Y=(351.4210504725146 motor controller, 350.5 deck) too high for limit 350.0\n",
      "WARNING:opentrons.hardware_control.util:Out of bounds move: Y=(351.4210504725146 motor controller, 350.5 deck) too high for limit 350.0\n",
      "WARNING:opentrons.hardware_control.util:Out of bounds move: Y=(351.4210504725146 motor controller, 350.5 deck) too high for limit 350.0\n",
      "WARNING:opentrons.hardware_control.util:Out of bounds move: Y=(351.425 motor controller, 350.50396390978887 deck) too high for limit 350.0\n",
      "WARNING:opentrons.hardware_control.util:Out of bounds move: Y=(351.425 motor controller, 350.50396390978887 deck) too high for limit 350.0\n"
     ]
    },
    {
     "name": "stdout",
     "output_type": "stream",
     "text": [
      "Picking up: 50-ethanol-50-PBS\n",
      "Picking up: 50-ethanol-50-PBS\n",
      "no pipette attached\n"
     ]
    },
    {
     "name": "stderr",
     "output_type": "stream",
     "text": [
      "WARNING:opentrons.hardware_control.util:Out of bounds move: Y=(351.4210504725146 motor controller, 350.5 deck) too high for limit 350.0\n",
      "WARNING:opentrons.hardware_control.util:Out of bounds move: Y=(351.4210504725146 motor controller, 350.5 deck) too high for limit 350.0\n",
      "WARNING:opentrons.hardware_control.util:Out of bounds move: Y=(351.4210504725146 motor controller, 350.5 deck) too high for limit 350.0\n",
      "WARNING:opentrons.hardware_control.util:Out of bounds move: Y=(351.4210504725146 motor controller, 350.5 deck) too high for limit 350.0\n",
      "WARNING:opentrons.hardware_control.util:Out of bounds move: Y=(351.425 motor controller, 350.50396390978887 deck) too high for limit 350.0\n",
      "WARNING:opentrons.hardware_control.util:Out of bounds move: Y=(351.425 motor controller, 350.50396390978887 deck) too high for limit 350.0\n"
     ]
    },
    {
     "name": "stdout",
     "output_type": "stream",
     "text": [
      "Picking up: pbs\n",
      "Picking up: pbs\n",
      "no pipette attached\n"
     ]
    },
    {
     "name": "stderr",
     "output_type": "stream",
     "text": [
      "WARNING:opentrons.hardware_control.util:Out of bounds move: Y=(351.4210504725146 motor controller, 350.5 deck) too high for limit 350.0\n",
      "WARNING:opentrons.hardware_control.util:Out of bounds move: Y=(351.4210504725146 motor controller, 350.5 deck) too high for limit 350.0\n",
      "WARNING:opentrons.hardware_control.util:Out of bounds move: Y=(351.4210504725146 motor controller, 350.5 deck) too high for limit 350.0\n",
      "WARNING:opentrons.hardware_control.util:Out of bounds move: Y=(351.4210504725146 motor controller, 350.5 deck) too high for limit 350.0\n",
      "WARNING:opentrons.hardware_control.util:Out of bounds move: Y=(351.425 motor controller, 350.50396390978887 deck) too high for limit 350.0\n",
      "WARNING:opentrons.hardware_control.util:Out of bounds move: Y=(351.425 motor controller, 350.50396390978887 deck) too high for limit 350.0\n"
     ]
    },
    {
     "name": "stdout",
     "output_type": "stream",
     "text": [
      "Picking up: salt\n",
      "Picking up: salt\n",
      "no pipette attached\n"
     ]
    },
    {
     "name": "stderr",
     "output_type": "stream",
     "text": [
      "WARNING:opentrons.hardware_control.util:Out of bounds move: Y=(351.4210504725146 motor controller, 350.5 deck) too high for limit 350.0\n",
      "WARNING:opentrons.hardware_control.util:Out of bounds move: Y=(351.4210504725146 motor controller, 350.5 deck) too high for limit 350.0\n",
      "WARNING:opentrons.hardware_control.util:Out of bounds move: Y=(351.4210504725146 motor controller, 350.5 deck) too high for limit 350.0\n",
      "WARNING:opentrons.hardware_control.util:Out of bounds move: Y=(351.4210504725146 motor controller, 350.5 deck) too high for limit 350.0\n",
      "WARNING:opentrons.hardware_control.util:Out of bounds move: Y=(351.425 motor controller, 350.50396390978887 deck) too high for limit 350.0\n",
      "WARNING:opentrons.hardware_control.util:Out of bounds move: Y=(351.425 motor controller, 350.50396390978887 deck) too high for limit 350.0\n"
     ]
    },
    {
     "name": "stdout",
     "output_type": "stream",
     "text": [
      "Picking up: 50-ethanol-50-PBS\n",
      "no pipette attached\n"
     ]
    },
    {
     "name": "stderr",
     "output_type": "stream",
     "text": [
      "WARNING:opentrons.hardware_control.util:Out of bounds move: Y=(351.4210504725146 motor controller, 350.5 deck) too high for limit 350.0\n",
      "WARNING:opentrons.hardware_control.util:Out of bounds move: Y=(351.4210504725146 motor controller, 350.5 deck) too high for limit 350.0\n",
      "WARNING:opentrons.hardware_control.util:Out of bounds move: Y=(351.4210504725146 motor controller, 350.5 deck) too high for limit 350.0\n",
      "WARNING:opentrons.hardware_control.util:Out of bounds move: Y=(351.4210504725146 motor controller, 350.5 deck) too high for limit 350.0\n",
      "WARNING:opentrons.hardware_control.util:Out of bounds move: Y=(351.425 motor controller, 350.50396390978887 deck) too high for limit 350.0\n",
      "WARNING:opentrons.hardware_control.util:Out of bounds move: Y=(351.425 motor controller, 350.50396390978887 deck) too high for limit 350.0\n"
     ]
    },
    {
     "name": "stdout",
     "output_type": "stream",
     "text": [
      "Picking up: pbs\n",
      "no pipette attached\n"
     ]
    },
    {
     "name": "stderr",
     "output_type": "stream",
     "text": [
      "WARNING:opentrons.hardware_control.util:Out of bounds move: Y=(351.4210504725146 motor controller, 350.5 deck) too high for limit 350.0\n",
      "WARNING:opentrons.hardware_control.util:Out of bounds move: Y=(351.4210504725146 motor controller, 350.5 deck) too high for limit 350.0\n",
      "WARNING:opentrons.hardware_control.util:Out of bounds move: Y=(351.4210504725146 motor controller, 350.5 deck) too high for limit 350.0\n",
      "WARNING:opentrons.hardware_control.util:Out of bounds move: Y=(351.4210504725146 motor controller, 350.5 deck) too high for limit 350.0\n",
      "WARNING:opentrons.hardware_control.util:Out of bounds move: Y=(351.425 motor controller, 350.50396390978887 deck) too high for limit 350.0\n",
      "WARNING:opentrons.hardware_control.util:Out of bounds move: Y=(351.425 motor controller, 350.50396390978887 deck) too high for limit 350.0\n"
     ]
    },
    {
     "name": "stdout",
     "output_type": "stream",
     "text": [
      "Picking up: salt\n",
      "no pipette attached\n"
     ]
    },
    {
     "name": "stderr",
     "output_type": "stream",
     "text": [
      "WARNING:opentrons.hardware_control.util:Out of bounds move: Y=(351.4210504725146 motor controller, 350.5 deck) too high for limit 350.0\n",
      "WARNING:opentrons.hardware_control.util:Out of bounds move: Y=(351.4210504725146 motor controller, 350.5 deck) too high for limit 350.0\n",
      "WARNING:opentrons.hardware_control.util:Out of bounds move: Y=(351.4210504725146 motor controller, 350.5 deck) too high for limit 350.0\n",
      "WARNING:opentrons.hardware_control.util:Out of bounds move: Y=(351.4210504725146 motor controller, 350.5 deck) too high for limit 350.0\n",
      "WARNING:opentrons.hardware_control.util:Out of bounds move: Y=(351.425 motor controller, 350.50396390978887 deck) too high for limit 350.0\n",
      "WARNING:opentrons.hardware_control.util:Out of bounds move: Y=(351.425 motor controller, 350.50396390978887 deck) too high for limit 350.0\n"
     ]
    },
    {
     "name": "stdout",
     "output_type": "stream",
     "text": [
      "no pipette attached\n"
     ]
    },
    {
     "name": "stderr",
     "output_type": "stream",
     "text": [
      "WARNING:opentrons.hardware_control.util:Out of bounds move: Y=(351.4210504725146 motor controller, 350.5 deck) too high for limit 350.0\n",
      "WARNING:opentrons.hardware_control.util:Out of bounds move: Y=(351.4210504725146 motor controller, 350.5 deck) too high for limit 350.0\n",
      "WARNING:opentrons.hardware_control.util:Out of bounds move: Y=(351.4210504725146 motor controller, 350.5 deck) too high for limit 350.0\n",
      "WARNING:opentrons.hardware_control.util:Out of bounds move: Y=(351.4210504725146 motor controller, 350.5 deck) too high for limit 350.0\n",
      "WARNING:opentrons.hardware_control.util:Out of bounds move: Y=(351.425 motor controller, 350.50396390978887 deck) too high for limit 350.0\n",
      "WARNING:opentrons.hardware_control.util:Out of bounds move: Y=(351.425 motor controller, 350.50396390978887 deck) too high for limit 350.0\n"
     ]
    },
    {
     "name": "stdout",
     "output_type": "stream",
     "text": [
      "no pipette attached\n"
     ]
    },
    {
     "name": "stderr",
     "output_type": "stream",
     "text": [
      "WARNING:opentrons.hardware_control.util:Out of bounds move: Y=(351.4210504725146 motor controller, 350.5 deck) too high for limit 350.0\n",
      "WARNING:opentrons.hardware_control.util:Out of bounds move: Y=(351.4210504725146 motor controller, 350.5 deck) too high for limit 350.0\n",
      "WARNING:opentrons.hardware_control.util:Out of bounds move: Y=(351.4210504725146 motor controller, 350.5 deck) too high for limit 350.0\n",
      "WARNING:opentrons.hardware_control.util:Out of bounds move: Y=(351.4210504725146 motor controller, 350.5 deck) too high for limit 350.0\n",
      "WARNING:opentrons.hardware_control.util:Out of bounds move: Y=(351.425 motor controller, 350.50396390978887 deck) too high for limit 350.0\n",
      "WARNING:opentrons.hardware_control.util:Out of bounds move: Y=(351.425 motor controller, 350.50396390978887 deck) too high for limit 350.0\n"
     ]
    },
    {
     "name": "stdout",
     "output_type": "stream",
     "text": [
      "no pipette attached\n"
     ]
    },
    {
     "name": "stderr",
     "output_type": "stream",
     "text": [
      "WARNING:opentrons.hardware_control.util:Out of bounds move: Y=(351.4210504725146 motor controller, 350.5 deck) too high for limit 350.0\n",
      "WARNING:opentrons.hardware_control.util:Out of bounds move: Y=(351.4210504725146 motor controller, 350.5 deck) too high for limit 350.0\n",
      "WARNING:opentrons.hardware_control.util:Out of bounds move: Y=(351.4210504725146 motor controller, 350.5 deck) too high for limit 350.0\n",
      "WARNING:opentrons.hardware_control.util:Out of bounds move: Y=(351.4210504725146 motor controller, 350.5 deck) too high for limit 350.0\n",
      "WARNING:opentrons.hardware_control.util:Out of bounds move: Y=(351.425 motor controller, 350.50396390978887 deck) too high for limit 350.0\n",
      "WARNING:opentrons.hardware_control.util:Out of bounds move: Y=(351.425 motor controller, 350.50396390978887 deck) too high for limit 350.0\n"
     ]
    },
    {
     "name": "stdout",
     "output_type": "stream",
     "text": [
      "no pipette attached\n"
     ]
    },
    {
     "name": "stderr",
     "output_type": "stream",
     "text": [
      "WARNING:opentrons.hardware_control.util:Out of bounds move: Y=(351.4210504725146 motor controller, 350.5 deck) too high for limit 350.0\n",
      "WARNING:opentrons.hardware_control.util:Out of bounds move: Y=(351.4210504725146 motor controller, 350.5 deck) too high for limit 350.0\n",
      "WARNING:opentrons.hardware_control.util:Out of bounds move: Y=(351.4210504725146 motor controller, 350.5 deck) too high for limit 350.0\n",
      "WARNING:opentrons.hardware_control.util:Out of bounds move: Y=(351.4210504725146 motor controller, 350.5 deck) too high for limit 350.0\n",
      "WARNING:opentrons.hardware_control.util:Out of bounds move: Y=(351.425 motor controller, 350.50396390978887 deck) too high for limit 350.0\n",
      "WARNING:opentrons.hardware_control.util:Out of bounds move: Y=(351.425 motor controller, 350.50396390978887 deck) too high for limit 350.0\n"
     ]
    },
    {
     "name": "stdout",
     "output_type": "stream",
     "text": [
      "no pipette attached\n"
     ]
    },
    {
     "name": "stderr",
     "output_type": "stream",
     "text": [
      "WARNING:opentrons.hardware_control.util:Out of bounds move: Y=(351.4210504725146 motor controller, 350.5 deck) too high for limit 350.0\n",
      "WARNING:opentrons.hardware_control.util:Out of bounds move: Y=(351.4210504725146 motor controller, 350.5 deck) too high for limit 350.0\n",
      "WARNING:opentrons.hardware_control.util:Out of bounds move: Y=(351.4210504725146 motor controller, 350.5 deck) too high for limit 350.0\n",
      "WARNING:opentrons.hardware_control.util:Out of bounds move: Y=(351.4210504725146 motor controller, 350.5 deck) too high for limit 350.0\n",
      "WARNING:opentrons.hardware_control.util:Out of bounds move: Y=(351.425 motor controller, 350.50396390978887 deck) too high for limit 350.0\n",
      "WARNING:opentrons.hardware_control.util:Out of bounds move: Y=(351.425 motor controller, 350.50396390978887 deck) too high for limit 350.0\n"
     ]
    },
    {
     "name": "stdout",
     "output_type": "stream",
     "text": [
      "no pipette attached\n"
     ]
    },
    {
     "name": "stderr",
     "output_type": "stream",
     "text": [
      "WARNING:opentrons.hardware_control.util:Out of bounds move: Y=(351.4210504725146 motor controller, 350.5 deck) too high for limit 350.0\n",
      "WARNING:opentrons.hardware_control.util:Out of bounds move: Y=(351.4210504725146 motor controller, 350.5 deck) too high for limit 350.0\n",
      "WARNING:opentrons.hardware_control.util:Out of bounds move: Y=(351.4210504725146 motor controller, 350.5 deck) too high for limit 350.0\n",
      "WARNING:opentrons.hardware_control.util:Out of bounds move: Y=(351.4210504725146 motor controller, 350.5 deck) too high for limit 350.0\n",
      "WARNING:opentrons.hardware_control.util:Out of bounds move: Y=(351.425 motor controller, 350.50396390978887 deck) too high for limit 350.0\n",
      "WARNING:opentrons.hardware_control.util:Out of bounds move: Y=(351.425 motor controller, 350.50396390978887 deck) too high for limit 350.0\n"
     ]
    },
    {
     "name": "stdout",
     "output_type": "stream",
     "text": [
      "no pipette attached\n"
     ]
    },
    {
     "name": "stderr",
     "output_type": "stream",
     "text": [
      "WARNING:opentrons.hardware_control.util:Out of bounds move: Y=(351.4210504725146 motor controller, 350.5 deck) too high for limit 350.0\n",
      "WARNING:opentrons.hardware_control.util:Out of bounds move: Y=(351.4210504725146 motor controller, 350.5 deck) too high for limit 350.0\n",
      "WARNING:opentrons.hardware_control.util:Out of bounds move: Y=(351.4210504725146 motor controller, 350.5 deck) too high for limit 350.0\n",
      "WARNING:opentrons.hardware_control.util:Out of bounds move: Y=(351.4210504725146 motor controller, 350.5 deck) too high for limit 350.0\n",
      "WARNING:opentrons.hardware_control.util:Out of bounds move: Y=(351.425 motor controller, 350.50396390978887 deck) too high for limit 350.0\n",
      "WARNING:opentrons.hardware_control.util:Out of bounds move: Y=(351.425 motor controller, 350.50396390978887 deck) too high for limit 350.0\n"
     ]
    },
    {
     "name": "stdout",
     "output_type": "stream",
     "text": [
      "no pipette attached\n"
     ]
    },
    {
     "name": "stderr",
     "output_type": "stream",
     "text": [
      "WARNING:opentrons.hardware_control.util:Out of bounds move: Y=(351.4210504725146 motor controller, 350.5 deck) too high for limit 350.0\n",
      "WARNING:opentrons.hardware_control.util:Out of bounds move: Y=(351.4210504725146 motor controller, 350.5 deck) too high for limit 350.0\n",
      "WARNING:opentrons.hardware_control.util:Out of bounds move: Y=(351.4210504725146 motor controller, 350.5 deck) too high for limit 350.0\n",
      "WARNING:opentrons.hardware_control.util:Out of bounds move: Y=(351.4210504725146 motor controller, 350.5 deck) too high for limit 350.0\n",
      "WARNING:opentrons.hardware_control.util:Out of bounds move: Y=(351.425 motor controller, 350.50396390978887 deck) too high for limit 350.0\n",
      "WARNING:opentrons.hardware_control.util:Out of bounds move: Y=(351.425 motor controller, 350.50396390978887 deck) too high for limit 350.0\n"
     ]
    },
    {
     "name": "stdout",
     "output_type": "stream",
     "text": [
      "no pipette attached\n"
     ]
    },
    {
     "name": "stderr",
     "output_type": "stream",
     "text": [
      "WARNING:opentrons.hardware_control.util:Out of bounds move: Y=(351.4210504725146 motor controller, 350.5 deck) too high for limit 350.0\n",
      "WARNING:opentrons.hardware_control.util:Out of bounds move: Y=(351.4210504725146 motor controller, 350.5 deck) too high for limit 350.0\n",
      "WARNING:opentrons.hardware_control.util:Out of bounds move: Y=(351.4210504725146 motor controller, 350.5 deck) too high for limit 350.0\n",
      "WARNING:opentrons.hardware_control.util:Out of bounds move: Y=(351.4210504725146 motor controller, 350.5 deck) too high for limit 350.0\n",
      "WARNING:opentrons.hardware_control.util:Out of bounds move: Y=(351.425 motor controller, 350.50396390978887 deck) too high for limit 350.0\n",
      "WARNING:opentrons.hardware_control.util:Out of bounds move: Y=(351.425 motor controller, 350.50396390978887 deck) too high for limit 350.0\n"
     ]
    },
    {
     "name": "stdout",
     "output_type": "stream",
     "text": [
      "no pipette attached\n"
     ]
    },
    {
     "name": "stderr",
     "output_type": "stream",
     "text": [
      "WARNING:opentrons.hardware_control.util:Out of bounds move: Y=(351.4210504725146 motor controller, 350.5 deck) too high for limit 350.0\n",
      "WARNING:opentrons.hardware_control.util:Out of bounds move: Y=(351.4210504725146 motor controller, 350.5 deck) too high for limit 350.0\n",
      "WARNING:opentrons.hardware_control.util:Out of bounds move: Y=(351.4210504725146 motor controller, 350.5 deck) too high for limit 350.0\n",
      "WARNING:opentrons.hardware_control.util:Out of bounds move: Y=(351.4210504725146 motor controller, 350.5 deck) too high for limit 350.0\n",
      "WARNING:opentrons.hardware_control.util:Out of bounds move: Y=(351.425 motor controller, 350.50396390978887 deck) too high for limit 350.0\n",
      "WARNING:opentrons.hardware_control.util:Out of bounds move: Y=(351.425 motor controller, 350.50396390978887 deck) too high for limit 350.0\n"
     ]
    },
    {
     "name": "stdout",
     "output_type": "stream",
     "text": [
      "no pipette attached\n"
     ]
    },
    {
     "name": "stderr",
     "output_type": "stream",
     "text": [
      "WARNING:opentrons.hardware_control.util:Out of bounds move: Y=(351.4210504725146 motor controller, 350.5 deck) too high for limit 350.0\n",
      "WARNING:opentrons.hardware_control.util:Out of bounds move: Y=(351.4210504725146 motor controller, 350.5 deck) too high for limit 350.0\n",
      "WARNING:opentrons.hardware_control.util:Out of bounds move: Y=(351.4210504725146 motor controller, 350.5 deck) too high for limit 350.0\n",
      "WARNING:opentrons.hardware_control.util:Out of bounds move: Y=(351.4210504725146 motor controller, 350.5 deck) too high for limit 350.0\n",
      "WARNING:opentrons.hardware_control.util:Out of bounds move: Y=(351.425 motor controller, 350.50396390978887 deck) too high for limit 350.0\n",
      "WARNING:opentrons.hardware_control.util:Out of bounds move: Y=(351.425 motor controller, 350.50396390978887 deck) too high for limit 350.0\n"
     ]
    },
    {
     "name": "stdout",
     "output_type": "stream",
     "text": [
      "no pipette attached\n"
     ]
    },
    {
     "name": "stderr",
     "output_type": "stream",
     "text": [
      "WARNING:opentrons.hardware_control.util:Out of bounds move: Y=(351.4210504725146 motor controller, 350.5 deck) too high for limit 350.0\n",
      "WARNING:opentrons.hardware_control.util:Out of bounds move: Y=(351.4210504725146 motor controller, 350.5 deck) too high for limit 350.0\n",
      "WARNING:opentrons.hardware_control.util:Out of bounds move: Y=(351.4210504725146 motor controller, 350.5 deck) too high for limit 350.0\n",
      "WARNING:opentrons.hardware_control.util:Out of bounds move: Y=(351.4210504725146 motor controller, 350.5 deck) too high for limit 350.0\n",
      "WARNING:opentrons.hardware_control.util:Out of bounds move: Y=(351.425 motor controller, 350.50396390978887 deck) too high for limit 350.0\n",
      "WARNING:opentrons.hardware_control.util:Out of bounds move: Y=(351.425 motor controller, 350.50396390978887 deck) too high for limit 350.0\n"
     ]
    },
    {
     "name": "stdout",
     "output_type": "stream",
     "text": [
      "no pipette attached\n"
     ]
    },
    {
     "name": "stderr",
     "output_type": "stream",
     "text": [
      "WARNING:opentrons.hardware_control.util:Out of bounds move: Y=(351.4210504725146 motor controller, 350.5 deck) too high for limit 350.0\n",
      "WARNING:opentrons.hardware_control.util:Out of bounds move: Y=(351.4210504725146 motor controller, 350.5 deck) too high for limit 350.0\n",
      "WARNING:opentrons.hardware_control.util:Out of bounds move: Y=(351.4210504725146 motor controller, 350.5 deck) too high for limit 350.0\n",
      "WARNING:opentrons.hardware_control.util:Out of bounds move: Y=(351.4210504725146 motor controller, 350.5 deck) too high for limit 350.0\n",
      "WARNING:opentrons.hardware_control.util:Out of bounds move: Y=(351.425 motor controller, 350.50396390978887 deck) too high for limit 350.0\n",
      "WARNING:opentrons.hardware_control.util:Out of bounds move: Y=(351.425 motor controller, 350.50396390978887 deck) too high for limit 350.0\n"
     ]
    },
    {
     "name": "stdout",
     "output_type": "stream",
     "text": [
      "no pipette attached\n"
     ]
    },
    {
     "name": "stderr",
     "output_type": "stream",
     "text": [
      "WARNING:opentrons.hardware_control.util:Out of bounds move: Y=(351.4210504725146 motor controller, 350.5 deck) too high for limit 350.0\n",
      "WARNING:opentrons.hardware_control.util:Out of bounds move: Y=(351.4210504725146 motor controller, 350.5 deck) too high for limit 350.0\n",
      "WARNING:opentrons.hardware_control.util:Out of bounds move: Y=(351.4210504725146 motor controller, 350.5 deck) too high for limit 350.0\n",
      "WARNING:opentrons.hardware_control.util:Out of bounds move: Y=(351.4210504725146 motor controller, 350.5 deck) too high for limit 350.0\n",
      "WARNING:opentrons.hardware_control.util:Out of bounds move: Y=(351.425 motor controller, 350.50396390978887 deck) too high for limit 350.0\n",
      "WARNING:opentrons.hardware_control.util:Out of bounds move: Y=(351.425 motor controller, 350.50396390978887 deck) too high for limit 350.0\n"
     ]
    },
    {
     "name": "stdout",
     "output_type": "stream",
     "text": [
      "no pipette attached\n"
     ]
    },
    {
     "name": "stderr",
     "output_type": "stream",
     "text": [
      "WARNING:opentrons.hardware_control.util:Out of bounds move: Y=(351.4210504725146 motor controller, 350.5 deck) too high for limit 350.0\n",
      "WARNING:opentrons.hardware_control.util:Out of bounds move: Y=(351.4210504725146 motor controller, 350.5 deck) too high for limit 350.0\n",
      "WARNING:opentrons.hardware_control.util:Out of bounds move: Y=(351.4210504725146 motor controller, 350.5 deck) too high for limit 350.0\n",
      "WARNING:opentrons.hardware_control.util:Out of bounds move: Y=(351.4210504725146 motor controller, 350.5 deck) too high for limit 350.0\n",
      "WARNING:opentrons.hardware_control.util:Out of bounds move: Y=(351.425 motor controller, 350.50396390978887 deck) too high for limit 350.0\n",
      "WARNING:opentrons.hardware_control.util:Out of bounds move: Y=(351.425 motor controller, 350.50396390978887 deck) too high for limit 350.0\n"
     ]
    },
    {
     "name": "stdout",
     "output_type": "stream",
     "text": [
      "no pipette attached\n"
     ]
    },
    {
     "name": "stderr",
     "output_type": "stream",
     "text": [
      "WARNING:opentrons.hardware_control.util:Out of bounds move: Y=(351.4210504725146 motor controller, 350.5 deck) too high for limit 350.0\n",
      "WARNING:opentrons.hardware_control.util:Out of bounds move: Y=(351.4210504725146 motor controller, 350.5 deck) too high for limit 350.0\n",
      "WARNING:opentrons.hardware_control.util:Out of bounds move: Y=(351.4210504725146 motor controller, 350.5 deck) too high for limit 350.0\n",
      "WARNING:opentrons.hardware_control.util:Out of bounds move: Y=(351.4210504725146 motor controller, 350.5 deck) too high for limit 350.0\n",
      "WARNING:opentrons.hardware_control.util:Out of bounds move: Y=(351.425 motor controller, 350.50396390978887 deck) too high for limit 350.0\n",
      "WARNING:opentrons.hardware_control.util:Out of bounds move: Y=(351.425 motor controller, 350.50396390978887 deck) too high for limit 350.0\n"
     ]
    },
    {
     "name": "stdout",
     "output_type": "stream",
     "text": [
      "no pipette attached\n"
     ]
    },
    {
     "name": "stderr",
     "output_type": "stream",
     "text": [
      "WARNING:opentrons.hardware_control.util:Out of bounds move: Y=(351.4210504725146 motor controller, 350.5 deck) too high for limit 350.0\n",
      "WARNING:opentrons.hardware_control.util:Out of bounds move: Y=(351.4210504725146 motor controller, 350.5 deck) too high for limit 350.0\n",
      "WARNING:opentrons.hardware_control.util:Out of bounds move: Y=(351.4210504725146 motor controller, 350.5 deck) too high for limit 350.0\n",
      "WARNING:opentrons.hardware_control.util:Out of bounds move: Y=(351.4210504725146 motor controller, 350.5 deck) too high for limit 350.0\n",
      "WARNING:opentrons.hardware_control.util:Out of bounds move: Y=(351.425 motor controller, 350.50396390978887 deck) too high for limit 350.0\n",
      "WARNING:opentrons.hardware_control.util:Out of bounds move: Y=(351.425 motor controller, 350.50396390978887 deck) too high for limit 350.0\n"
     ]
    },
    {
     "name": "stdout",
     "output_type": "stream",
     "text": [
      "no pipette attached\n"
     ]
    },
    {
     "name": "stderr",
     "output_type": "stream",
     "text": [
      "WARNING:opentrons.hardware_control.util:Out of bounds move: Y=(351.4210504725146 motor controller, 350.5 deck) too high for limit 350.0\n",
      "WARNING:opentrons.hardware_control.util:Out of bounds move: Y=(351.4210504725146 motor controller, 350.5 deck) too high for limit 350.0\n",
      "WARNING:opentrons.hardware_control.util:Out of bounds move: Y=(351.4210504725146 motor controller, 350.5 deck) too high for limit 350.0\n",
      "WARNING:opentrons.hardware_control.util:Out of bounds move: Y=(351.4210504725146 motor controller, 350.5 deck) too high for limit 350.0\n",
      "WARNING:opentrons.hardware_control.util:Out of bounds move: Y=(351.425 motor controller, 350.50396390978887 deck) too high for limit 350.0\n",
      "WARNING:opentrons.hardware_control.util:Out of bounds move: Y=(351.425 motor controller, 350.50396390978887 deck) too high for limit 350.0\n"
     ]
    },
    {
     "name": "stdout",
     "output_type": "stream",
     "text": [
      "no pipette attached\n"
     ]
    },
    {
     "name": "stderr",
     "output_type": "stream",
     "text": [
      "WARNING:opentrons.hardware_control.util:Out of bounds move: Y=(351.4210504725146 motor controller, 350.5 deck) too high for limit 350.0\n",
      "WARNING:opentrons.hardware_control.util:Out of bounds move: Y=(351.4210504725146 motor controller, 350.5 deck) too high for limit 350.0\n",
      "WARNING:opentrons.hardware_control.util:Out of bounds move: Y=(351.4210504725146 motor controller, 350.5 deck) too high for limit 350.0\n",
      "WARNING:opentrons.hardware_control.util:Out of bounds move: Y=(351.4210504725146 motor controller, 350.5 deck) too high for limit 350.0\n",
      "WARNING:opentrons.hardware_control.util:Out of bounds move: Y=(351.425 motor controller, 350.50396390978887 deck) too high for limit 350.0\n",
      "WARNING:opentrons.hardware_control.util:Out of bounds move: Y=(351.425 motor controller, 350.50396390978887 deck) too high for limit 350.0\n"
     ]
    },
    {
     "name": "stdout",
     "output_type": "stream",
     "text": [
      "no pipette attached\n"
     ]
    },
    {
     "name": "stderr",
     "output_type": "stream",
     "text": [
      "WARNING:opentrons.hardware_control.util:Out of bounds move: Y=(351.4210504725146 motor controller, 350.5 deck) too high for limit 350.0\n",
      "WARNING:opentrons.hardware_control.util:Out of bounds move: Y=(351.4210504725146 motor controller, 350.5 deck) too high for limit 350.0\n",
      "WARNING:opentrons.hardware_control.util:Out of bounds move: Y=(351.4210504725146 motor controller, 350.5 deck) too high for limit 350.0\n",
      "WARNING:opentrons.hardware_control.util:Out of bounds move: Y=(351.4210504725146 motor controller, 350.5 deck) too high for limit 350.0\n",
      "WARNING:opentrons.hardware_control.util:Out of bounds move: Y=(351.425 motor controller, 350.50396390978887 deck) too high for limit 350.0\n",
      "WARNING:opentrons.hardware_control.util:Out of bounds move: Y=(351.425 motor controller, 350.50396390978887 deck) too high for limit 350.0\n"
     ]
    }
   ],
   "source": [
    "\n",
    "# \n",
    "T_period_scan = 1*60  # take a whole plate scan every 5 minutes\n",
    "T_period_pipette = 20*60 # add a new reagent every 60 minutes  \n",
    "\n",
    "\n",
    "N_rows = 4 \n",
    "N_cols = len(plate.columns()[0])\n",
    "V_aspirate = 50 # µm\n",
    "iiter = 0\n",
    "\n",
    "\n",
    "# set speed\n",
    "protocol.max_speeds['X'] = 200 # default = 400\n",
    "protocol.max_speeds['Y'] = 200 # default = 300\n",
    "\n",
    "\n",
    "# start dispensing \n",
    "experiment_methods = ['50-ethanol-50-PBS', 'pbs', 'salt', 'none']\n",
    "last_exerpiment = 'none'\n",
    "\n",
    "# microscope parameters\n",
    "offset_x=3000\n",
    "offset_y=3000\n",
    "\n",
    "# Make sure microscope is homed!\n",
    "# microscope.move((0*9000+offset_x,0*9000+offset_y,0), True)\n",
    "\n",
    "# Perform a whole plate scan\n",
    "\n",
    "time_now = time.time()\n",
    "i_row=-1\n",
    "while(True):\n",
    "    # start a full-well scan every 5 minutes\n",
    "    time_now = time.time()\n",
    "    if (time_now - time_last_scan) > T_period_scan:\n",
    "        experiment_name = experiment_methods[i_row]\n",
    "        whole_platescan_96well(microscope, offset_x=offset_x, offset_y=offset_y, xstart=0, ystart=8, Nx = 8, Ny = 12, name='TestScan'+str(i_id))\n",
    "        time_last_scan = time.time()\n",
    "        i_id +=1\n",
    "        \n",
    "        # \n",
    "        microscope.move((offset_x,offset_y+9000*6,0), True)\n",
    "\n",
    "    # start a full-well scan every 30 minutes\n",
    "    if (time_now - time_last_pipette) > T_period_pipette:  \n",
    "              \n",
    "        time_last_pipette = time.time()\n",
    "        for i_row in range(N_rows):\n",
    "\n",
    "            # select the exerpiment and use the proper pipette tip\n",
    "            current_exerpiment = experiment_methods[i_row]\n",
    "\n",
    "\n",
    "            if current_exerpiment is not \"none\":\n",
    "                \n",
    "                # pickup new pipette since we have a new reagent\n",
    "                i_pipette = pickup_fresh_pipette_tip(i_pipette, pipette, tiprack)\n",
    "\n",
    "                for i_col in range(i_experiment, N_cols):\n",
    "                    '''\n",
    "                    Go to the liquid and aspirate some stuff\n",
    "                    '''\n",
    "                    #get position of the first well of the microscope\n",
    "                    print(\"Picking up: \"+experiment_methods[i_row])\n",
    "                    pos_reagent = plate2.columns(i_row)[0][0].center()\n",
    "                    dx=0; dy=-3; dz=-15 # offset-coordinates (only calibrate it once)\n",
    "\n",
    "                    # Get a location 1 mm right, 1 mm back, and 1 mm up from the center of well A1.\n",
    "                    adjusted_location = pos_reagent.move(types.Point(x=dx, y=dy, z=dz))\n",
    "                    pipette.move_to((adjusted_location))\n",
    "                    pipette.aspirate(V_aspirate)\n",
    "\n",
    "                    # move head up\n",
    "                    pos_reagent = plate2.rows(i_row)[0][0].center()\n",
    "                    # Get a location 1 mm right, 1 mm back, and 1 mm up from the center of well A1.\n",
    "                    adjusted_location = pos_reagent.move(types.Point(x=dx, y=dy, z=130))\n",
    "                    pipette.move_to((adjusted_location))\n",
    "\n",
    "                    '''\n",
    "                    Go to the microscope and dispense \n",
    "                    '''    \n",
    "                    #get position of the first well of the microscope\n",
    "                    center_location = plate.columns()[i_row][i_col].center()\n",
    "                    # offset-coordinates (only calibrate it once)\n",
    "                    dx=-6; dy=2; dz=150\n",
    "\n",
    "                    # Get a location 1 mm right, 1 mm back, and 1 mm up from the center of well A1.\n",
    "                    adjusted_location = center_location.move(types.Point(x=dx, y=dy, z=135))\n",
    "                    pipette.move_to((adjusted_location))\n",
    "\n",
    "                    # Get a location 1 mm right, 1 mm back, and 1 mm up from the center of well A1.\n",
    "                    adjusted_location = center_location.move(types.Point(x=dx, y=dy, z=88))\n",
    "                    pipette.move_to((adjusted_location))\n",
    "                    pipette.dispense()\n",
    "                    \n",
    "                    # fully dispense\n",
    "                    adjusted_location = center_location.move(types.Point(x=dx, y=dy, z=95))\n",
    "                    pipette.move_to((adjusted_location))\n",
    "                    pipette.blow_out()\n",
    "\n",
    "                    # move up\n",
    "                    # Get a location 1 mm right, 1 mm back, and 1 mm up from the center of well A1.\n",
    "                    adjusted_location = center_location.move(types.Point(x=dx, y=dy, z=135))\n",
    "                    pipette.move_to((adjusted_location))\n",
    "\n",
    "\n",
    "        i_experiment += 1  \n",
    "                \n",
    "\n",
    "\n"
   ]
  },
  {
   "cell_type": "code",
   "execution_count": 32,
   "metadata": {},
   "outputs": [
    {
     "data": {
      "text/plain": [
       "1"
      ]
     },
     "execution_count": 32,
     "metadata": {},
     "output_type": "execute_result"
    }
   ],
   "source": [
    "i_pipette"
   ]
  },
  {
   "cell_type": "code",
   "execution_count": null,
   "metadata": {},
   "outputs": [],
   "source": [
    "pipette.drop_tip()"
   ]
  },
  {
   "cell_type": "code",
   "execution_count": null,
   "metadata": {},
   "outputs": [],
   "source": [
    "pipette.home()"
   ]
  },
  {
   "cell_type": "code",
   "execution_count": null,
   "metadata": {},
   "outputs": [],
   "source": []
  },
  {
   "cell_type": "code",
   "execution_count": null,
   "metadata": {},
   "outputs": [],
   "source": [
    "center_location = plate2['A1'].center()\n",
    "\n",
    "# Get a location 1 mm right, 1 mm back, and 1 mm up from the center of well A1.\n",
    "adjusted_location = center_location.move(types.Point(x=1, y=1, z=110))\n",
    "\n",
    "pipette.move_to((adjusted_location))\n"
   ]
  },
  {
   "cell_type": "code",
   "execution_count": null,
   "metadata": {},
   "outputs": [],
   "source": [
    "pipette.home()"
   ]
  }
 ],
 "metadata": {
  "kernelspec": {
   "display_name": "Python 3",
   "language": "python",
   "name": "python3"
  },
  "language_info": {
   "codemirror_mode": {
    "name": "ipython",
    "version": 3
   },
   "file_extension": ".py",
   "mimetype": "text/x-python",
   "name": "python",
   "nbconvert_exporter": "python",
   "pygments_lexer": "ipython3",
   "version": "3.8.5"
  }
 },
 "nbformat": 4,
 "nbformat_minor": 2
}
